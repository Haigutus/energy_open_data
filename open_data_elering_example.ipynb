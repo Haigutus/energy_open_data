{
  "nbformat": 4,
  "nbformat_minor": 0,
  "metadata": {
    "colab": {
      "name": "open_data_elering_example.ipynb",
      "provenance": [],
      "collapsed_sections": [],
      "authorship_tag": "ABX9TyN3xVGe9TWcBZPOrxpyyfCO",
      "include_colab_link": true
    },
    "kernelspec": {
      "name": "python3",
      "display_name": "Python 3"
    }
  },
  "cells": [
    {
      "cell_type": "markdown",
      "metadata": {
        "id": "view-in-github",
        "colab_type": "text"
      },
      "source": [
        "<a href=\"https://colab.research.google.com/github/Haigutus/energy_open_data/blob/main/open_data_elering_example.ipynb\" target=\"_parent\"><img src=\"https://colab.research.google.com/assets/colab-badge.svg\" alt=\"Open In Colab\"/></a>"
      ]
    },
    {
      "cell_type": "markdown",
      "metadata": {
        "id": "fz6-fMyigvpW"
      },
      "source": [
        "# URL for API query\n",
        "API link: https://dashboard.elering.ee/swagger-ui.html\n"
      ]
    },
    {
      "cell_type": "code",
      "metadata": {
        "id": "IgeZrtBbgulN"
      },
      "source": [
        "import requests\n",
        "\n",
        "prices_query_url = \"https://dashboard.elering.ee/api/nps/price\"\n",
        "\n",
        "response = requests.get(prices_query_url)"
      ],
      "execution_count": 2,
      "outputs": []
    },
    {
      "cell_type": "code",
      "metadata": {
        "colab": {
          "base_uri": "https://localhost:8080/"
        },
        "id": "7UpT0_JBhnOy",
        "outputId": "8a5a882b-9d82-48ea-f1f3-cec495057ad1"
      },
      "source": [
        "response.json()[\"data\"][\"ee\"]"
      ],
      "execution_count": 6,
      "outputs": [
        {
          "output_type": "execute_result",
          "data": {
            "text/plain": [
              "[{'price': 1.7, 'timestamp': 1606078800},\n",
              " {'price': 1.22, 'timestamp': 1606082400},\n",
              " {'price': 1.29, 'timestamp': 1606086000},\n",
              " {'price': 1.02, 'timestamp': 1606089600},\n",
              " {'price': 0.89, 'timestamp': 1606093200},\n",
              " {'price': 0.94, 'timestamp': 1606096800},\n",
              " {'price': 1.49, 'timestamp': 1606100400},\n",
              " {'price': 3.64, 'timestamp': 1606104000},\n",
              " {'price': 54.02, 'timestamp': 1606107600},\n",
              " {'price': 56.12, 'timestamp': 1606111200},\n",
              " {'price': 54.47, 'timestamp': 1606114800},\n",
              " {'price': 50.07, 'timestamp': 1606118400},\n",
              " {'price': 44.82, 'timestamp': 1606122000},\n",
              " {'price': 40.09, 'timestamp': 1606125600},\n",
              " {'price': 40.03, 'timestamp': 1606129200},\n",
              " {'price': 50.32, 'timestamp': 1606132800},\n",
              " {'price': 50.23, 'timestamp': 1606136400},\n",
              " {'price': 51.69, 'timestamp': 1606140000},\n",
              " {'price': 60.85, 'timestamp': 1606143600},\n",
              " {'price': 61.21, 'timestamp': 1606147200},\n",
              " {'price': 55.86, 'timestamp': 1606150800},\n",
              " {'price': 38.02, 'timestamp': 1606154400},\n",
              " {'price': 5.84, 'timestamp': 1606158000},\n",
              " {'price': 46.09, 'timestamp': 1606161600},\n",
              " {'price': 19.35, 'timestamp': 1606165200},\n",
              " {'price': 16.0, 'timestamp': 1606168800},\n",
              " {'price': 2.47, 'timestamp': 1606172400}]"
            ]
          },
          "metadata": {
            "tags": []
          },
          "execution_count": 6
        }
      ]
    },
    {
      "cell_type": "code",
      "metadata": {
        "colab": {
          "base_uri": "https://localhost:8080/",
          "height": 886
        },
        "id": "xVrRT4Y7h3ze",
        "outputId": "3d8b9634-66e3-4788-cbda-80029b7d89cc"
      },
      "source": [
        "import pandas\n",
        "import pytz\n",
        "\n",
        "data = pandas.DataFrame(response.json()[\"data\"][\"ee\"])\n",
        "data[\"iso_utc_timestamp\"] = pandas.to_datetime(data['timestamp'],unit='s', utc=True)\n",
        "data[\"iso_timestamp\"] = data[\"iso_utc_timestamp\"].dt.tz_convert(pytz.timezone(\"Europe/Tallinn\"))\n",
        "\n",
        "\n",
        "\n",
        "data"
      ],
      "execution_count": 17,
      "outputs": [
        {
          "output_type": "execute_result",
          "data": {
            "text/html": [
              "<div>\n",
              "<style scoped>\n",
              "    .dataframe tbody tr th:only-of-type {\n",
              "        vertical-align: middle;\n",
              "    }\n",
              "\n",
              "    .dataframe tbody tr th {\n",
              "        vertical-align: top;\n",
              "    }\n",
              "\n",
              "    .dataframe thead th {\n",
              "        text-align: right;\n",
              "    }\n",
              "</style>\n",
              "<table border=\"1\" class=\"dataframe\">\n",
              "  <thead>\n",
              "    <tr style=\"text-align: right;\">\n",
              "      <th></th>\n",
              "      <th>timestamp</th>\n",
              "      <th>price</th>\n",
              "      <th>iso_utc_timestamp</th>\n",
              "      <th>iso_timestamp</th>\n",
              "    </tr>\n",
              "  </thead>\n",
              "  <tbody>\n",
              "    <tr>\n",
              "      <th>0</th>\n",
              "      <td>1606078800</td>\n",
              "      <td>1.70</td>\n",
              "      <td>2020-11-22 21:00:00+00:00</td>\n",
              "      <td>2020-11-22 23:00:00+02:00</td>\n",
              "    </tr>\n",
              "    <tr>\n",
              "      <th>1</th>\n",
              "      <td>1606082400</td>\n",
              "      <td>1.22</td>\n",
              "      <td>2020-11-22 22:00:00+00:00</td>\n",
              "      <td>2020-11-23 00:00:00+02:00</td>\n",
              "    </tr>\n",
              "    <tr>\n",
              "      <th>2</th>\n",
              "      <td>1606086000</td>\n",
              "      <td>1.29</td>\n",
              "      <td>2020-11-22 23:00:00+00:00</td>\n",
              "      <td>2020-11-23 01:00:00+02:00</td>\n",
              "    </tr>\n",
              "    <tr>\n",
              "      <th>3</th>\n",
              "      <td>1606089600</td>\n",
              "      <td>1.02</td>\n",
              "      <td>2020-11-23 00:00:00+00:00</td>\n",
              "      <td>2020-11-23 02:00:00+02:00</td>\n",
              "    </tr>\n",
              "    <tr>\n",
              "      <th>4</th>\n",
              "      <td>1606093200</td>\n",
              "      <td>0.89</td>\n",
              "      <td>2020-11-23 01:00:00+00:00</td>\n",
              "      <td>2020-11-23 03:00:00+02:00</td>\n",
              "    </tr>\n",
              "    <tr>\n",
              "      <th>5</th>\n",
              "      <td>1606096800</td>\n",
              "      <td>0.94</td>\n",
              "      <td>2020-11-23 02:00:00+00:00</td>\n",
              "      <td>2020-11-23 04:00:00+02:00</td>\n",
              "    </tr>\n",
              "    <tr>\n",
              "      <th>6</th>\n",
              "      <td>1606100400</td>\n",
              "      <td>1.49</td>\n",
              "      <td>2020-11-23 03:00:00+00:00</td>\n",
              "      <td>2020-11-23 05:00:00+02:00</td>\n",
              "    </tr>\n",
              "    <tr>\n",
              "      <th>7</th>\n",
              "      <td>1606104000</td>\n",
              "      <td>3.64</td>\n",
              "      <td>2020-11-23 04:00:00+00:00</td>\n",
              "      <td>2020-11-23 06:00:00+02:00</td>\n",
              "    </tr>\n",
              "    <tr>\n",
              "      <th>8</th>\n",
              "      <td>1606107600</td>\n",
              "      <td>54.02</td>\n",
              "      <td>2020-11-23 05:00:00+00:00</td>\n",
              "      <td>2020-11-23 07:00:00+02:00</td>\n",
              "    </tr>\n",
              "    <tr>\n",
              "      <th>9</th>\n",
              "      <td>1606111200</td>\n",
              "      <td>56.12</td>\n",
              "      <td>2020-11-23 06:00:00+00:00</td>\n",
              "      <td>2020-11-23 08:00:00+02:00</td>\n",
              "    </tr>\n",
              "    <tr>\n",
              "      <th>10</th>\n",
              "      <td>1606114800</td>\n",
              "      <td>54.47</td>\n",
              "      <td>2020-11-23 07:00:00+00:00</td>\n",
              "      <td>2020-11-23 09:00:00+02:00</td>\n",
              "    </tr>\n",
              "    <tr>\n",
              "      <th>11</th>\n",
              "      <td>1606118400</td>\n",
              "      <td>50.07</td>\n",
              "      <td>2020-11-23 08:00:00+00:00</td>\n",
              "      <td>2020-11-23 10:00:00+02:00</td>\n",
              "    </tr>\n",
              "    <tr>\n",
              "      <th>12</th>\n",
              "      <td>1606122000</td>\n",
              "      <td>44.82</td>\n",
              "      <td>2020-11-23 09:00:00+00:00</td>\n",
              "      <td>2020-11-23 11:00:00+02:00</td>\n",
              "    </tr>\n",
              "    <tr>\n",
              "      <th>13</th>\n",
              "      <td>1606125600</td>\n",
              "      <td>40.09</td>\n",
              "      <td>2020-11-23 10:00:00+00:00</td>\n",
              "      <td>2020-11-23 12:00:00+02:00</td>\n",
              "    </tr>\n",
              "    <tr>\n",
              "      <th>14</th>\n",
              "      <td>1606129200</td>\n",
              "      <td>40.03</td>\n",
              "      <td>2020-11-23 11:00:00+00:00</td>\n",
              "      <td>2020-11-23 13:00:00+02:00</td>\n",
              "    </tr>\n",
              "    <tr>\n",
              "      <th>15</th>\n",
              "      <td>1606132800</td>\n",
              "      <td>50.32</td>\n",
              "      <td>2020-11-23 12:00:00+00:00</td>\n",
              "      <td>2020-11-23 14:00:00+02:00</td>\n",
              "    </tr>\n",
              "    <tr>\n",
              "      <th>16</th>\n",
              "      <td>1606136400</td>\n",
              "      <td>50.23</td>\n",
              "      <td>2020-11-23 13:00:00+00:00</td>\n",
              "      <td>2020-11-23 15:00:00+02:00</td>\n",
              "    </tr>\n",
              "    <tr>\n",
              "      <th>17</th>\n",
              "      <td>1606140000</td>\n",
              "      <td>51.69</td>\n",
              "      <td>2020-11-23 14:00:00+00:00</td>\n",
              "      <td>2020-11-23 16:00:00+02:00</td>\n",
              "    </tr>\n",
              "    <tr>\n",
              "      <th>18</th>\n",
              "      <td>1606143600</td>\n",
              "      <td>60.85</td>\n",
              "      <td>2020-11-23 15:00:00+00:00</td>\n",
              "      <td>2020-11-23 17:00:00+02:00</td>\n",
              "    </tr>\n",
              "    <tr>\n",
              "      <th>19</th>\n",
              "      <td>1606147200</td>\n",
              "      <td>61.21</td>\n",
              "      <td>2020-11-23 16:00:00+00:00</td>\n",
              "      <td>2020-11-23 18:00:00+02:00</td>\n",
              "    </tr>\n",
              "    <tr>\n",
              "      <th>20</th>\n",
              "      <td>1606150800</td>\n",
              "      <td>55.86</td>\n",
              "      <td>2020-11-23 17:00:00+00:00</td>\n",
              "      <td>2020-11-23 19:00:00+02:00</td>\n",
              "    </tr>\n",
              "    <tr>\n",
              "      <th>21</th>\n",
              "      <td>1606154400</td>\n",
              "      <td>38.02</td>\n",
              "      <td>2020-11-23 18:00:00+00:00</td>\n",
              "      <td>2020-11-23 20:00:00+02:00</td>\n",
              "    </tr>\n",
              "    <tr>\n",
              "      <th>22</th>\n",
              "      <td>1606158000</td>\n",
              "      <td>5.84</td>\n",
              "      <td>2020-11-23 19:00:00+00:00</td>\n",
              "      <td>2020-11-23 21:00:00+02:00</td>\n",
              "    </tr>\n",
              "    <tr>\n",
              "      <th>23</th>\n",
              "      <td>1606161600</td>\n",
              "      <td>46.09</td>\n",
              "      <td>2020-11-23 20:00:00+00:00</td>\n",
              "      <td>2020-11-23 22:00:00+02:00</td>\n",
              "    </tr>\n",
              "    <tr>\n",
              "      <th>24</th>\n",
              "      <td>1606165200</td>\n",
              "      <td>19.35</td>\n",
              "      <td>2020-11-23 21:00:00+00:00</td>\n",
              "      <td>2020-11-23 23:00:00+02:00</td>\n",
              "    </tr>\n",
              "    <tr>\n",
              "      <th>25</th>\n",
              "      <td>1606168800</td>\n",
              "      <td>16.00</td>\n",
              "      <td>2020-11-23 22:00:00+00:00</td>\n",
              "      <td>2020-11-24 00:00:00+02:00</td>\n",
              "    </tr>\n",
              "    <tr>\n",
              "      <th>26</th>\n",
              "      <td>1606172400</td>\n",
              "      <td>2.47</td>\n",
              "      <td>2020-11-23 23:00:00+00:00</td>\n",
              "      <td>2020-11-24 01:00:00+02:00</td>\n",
              "    </tr>\n",
              "  </tbody>\n",
              "</table>\n",
              "</div>"
            ],
            "text/plain": [
              "     timestamp  price         iso_utc_timestamp             iso_timestamp\n",
              "0   1606078800   1.70 2020-11-22 21:00:00+00:00 2020-11-22 23:00:00+02:00\n",
              "1   1606082400   1.22 2020-11-22 22:00:00+00:00 2020-11-23 00:00:00+02:00\n",
              "2   1606086000   1.29 2020-11-22 23:00:00+00:00 2020-11-23 01:00:00+02:00\n",
              "3   1606089600   1.02 2020-11-23 00:00:00+00:00 2020-11-23 02:00:00+02:00\n",
              "4   1606093200   0.89 2020-11-23 01:00:00+00:00 2020-11-23 03:00:00+02:00\n",
              "5   1606096800   0.94 2020-11-23 02:00:00+00:00 2020-11-23 04:00:00+02:00\n",
              "6   1606100400   1.49 2020-11-23 03:00:00+00:00 2020-11-23 05:00:00+02:00\n",
              "7   1606104000   3.64 2020-11-23 04:00:00+00:00 2020-11-23 06:00:00+02:00\n",
              "8   1606107600  54.02 2020-11-23 05:00:00+00:00 2020-11-23 07:00:00+02:00\n",
              "9   1606111200  56.12 2020-11-23 06:00:00+00:00 2020-11-23 08:00:00+02:00\n",
              "10  1606114800  54.47 2020-11-23 07:00:00+00:00 2020-11-23 09:00:00+02:00\n",
              "11  1606118400  50.07 2020-11-23 08:00:00+00:00 2020-11-23 10:00:00+02:00\n",
              "12  1606122000  44.82 2020-11-23 09:00:00+00:00 2020-11-23 11:00:00+02:00\n",
              "13  1606125600  40.09 2020-11-23 10:00:00+00:00 2020-11-23 12:00:00+02:00\n",
              "14  1606129200  40.03 2020-11-23 11:00:00+00:00 2020-11-23 13:00:00+02:00\n",
              "15  1606132800  50.32 2020-11-23 12:00:00+00:00 2020-11-23 14:00:00+02:00\n",
              "16  1606136400  50.23 2020-11-23 13:00:00+00:00 2020-11-23 15:00:00+02:00\n",
              "17  1606140000  51.69 2020-11-23 14:00:00+00:00 2020-11-23 16:00:00+02:00\n",
              "18  1606143600  60.85 2020-11-23 15:00:00+00:00 2020-11-23 17:00:00+02:00\n",
              "19  1606147200  61.21 2020-11-23 16:00:00+00:00 2020-11-23 18:00:00+02:00\n",
              "20  1606150800  55.86 2020-11-23 17:00:00+00:00 2020-11-23 19:00:00+02:00\n",
              "21  1606154400  38.02 2020-11-23 18:00:00+00:00 2020-11-23 20:00:00+02:00\n",
              "22  1606158000   5.84 2020-11-23 19:00:00+00:00 2020-11-23 21:00:00+02:00\n",
              "23  1606161600  46.09 2020-11-23 20:00:00+00:00 2020-11-23 22:00:00+02:00\n",
              "24  1606165200  19.35 2020-11-23 21:00:00+00:00 2020-11-23 23:00:00+02:00\n",
              "25  1606168800  16.00 2020-11-23 22:00:00+00:00 2020-11-24 00:00:00+02:00\n",
              "26  1606172400   2.47 2020-11-23 23:00:00+00:00 2020-11-24 01:00:00+02:00"
            ]
          },
          "metadata": {
            "tags": []
          },
          "execution_count": 17
        }
      ]
    },
    {
      "cell_type": "code",
      "metadata": {
        "colab": {
          "base_uri": "https://localhost:8080/",
          "height": 635
        },
        "id": "xzMHWuPEkG9E",
        "outputId": "33e3d3db-ca0a-4649-ced6-5a5f8046b8ae"
      },
      "source": [
        "data.set_index(\"iso_timestamp\")[\"price\"].plot(figsize=(30, 10), ylabel=\"EUR/MWh\")"
      ],
      "execution_count": 24,
      "outputs": [
        {
          "output_type": "execute_result",
          "data": {
            "text/plain": [
              "<matplotlib.axes._subplots.AxesSubplot at 0x7fb3c4b81358>"
            ]
          },
          "metadata": {
            "tags": []
          },
          "execution_count": 24
        },
        {
          "output_type": "display_data",
          "data": {
            "image/png": "[encoded data removed]",
            "text/plain": [
              "<Figure size 2160x720 with 1 Axes>"
            ]
          },
          "metadata": {
            "tags": [],
            "needs_background": "light"
          }
        }
      ]
    }
  ]
}