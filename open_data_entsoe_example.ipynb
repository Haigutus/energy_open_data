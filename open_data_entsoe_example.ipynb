{
  "nbformat": 4,
  "nbformat_minor": 0,
  "metadata": {
    "colab": {
      "name": "open_data_entsoe_example.ipynb",
      "provenance": [],
      "toc_visible": true,
      "authorship_tag": "ABX9TyM+7+vGka2d12wbKbREp4Qq"
    },
    "kernelspec": {
      "name": "python3",
      "display_name": "Python 3"
    }
  },
  "cells": [
    {
      "cell_type": "markdown",
      "metadata": {
        "id": "rZFGIfQtzTg3"
      },
      "source": [
        "# Create link to data\n",
        "\n",
        "API User Guide: https://transparency.entsoe.eu/content/static_content/Static%20content/web%20api/Guide.html"
      ]
    },
    {
      "cell_type": "code",
      "metadata": {
        "colab": {
          "base_uri": "https://localhost:8080/"
        },
        "id": "lEG8Cl9_W_pv",
        "outputId": "92713007-749d-47f1-bc54-36db84a847de"
      },
      "source": [
        "import urllib\n",
        "import datetime\n",
        "\n",
        "api_key = \"2ecc33df-ae91-4de1-a519-c55d4fcbf74c\"\n",
        "\n",
        "base_url = \"https://transparency.entsoe.eu/api\"\n",
        "\n",
        "\n",
        "now = datetime.datetime.utcnow()\n",
        "\n",
        "start_time = now.replace(hour=0, minute=0) - datetime.timedelta(days=7)\n",
        "end_time = start_time + datetime.timedelta(days=7)\n",
        "\n",
        "time_format = \"%Y%m%d%H%M\"\n",
        "\n",
        "print(start_time.strftime(time_format))\n",
        "print(end_time.strftime(time_format))\n",
        "\n",
        "\n",
        "\n",
        "# Example query\n",
        "#query_url = f\"{base_url}?securityToken={api_key}&documentType=A44&in_Domain=10YCZ-CEPS-----N&out_Domain=10YCZ-CEPS-----N&periodStart=201512312300&periodEnd=201612312300\"\n",
        "\n",
        "\n",
        "\n",
        "\n",
        "query_parameters_installed = {\"securityToken\": api_key,\n",
        "                    \"documentType\": \"A68\",\n",
        "                    \"processType\": \"A33\",\n",
        "                    \"in_Domain\": \"10Y1001A1001A39I\",\n",
        "                    \"periodStart\": start_time.strftime(time_format),\n",
        "                    \"periodEnd\": end_time.strftime(time_format)}\n",
        "\n",
        "\n",
        "query_parameters_price = {\"securityToken\": api_key,\n",
        "                          \"documentType\": \"A44\",\n",
        "                          \"in_Domain\": \"10Y1001A1001A39I\",\n",
        "                          \"out_Domain\": \"10Y1001A1001A39I\",\n",
        "                          \"periodStart\": start_time.strftime(time_format),\n",
        "                          \"periodEnd\": end_time.strftime(time_format)}\n",
        "\n",
        "query_parameters_forecast = {\"securityToken\": api_key,\n",
        "                            \"documentType\": \"A69\",\n",
        "                            \"processType\": \"A01\",\n",
        "                            \"psrType\": \"B16\",\n",
        "                            \"in_Domain\": \"10Y1001A1001A39I\",\n",
        "                            \"periodStart\": start_time.strftime(time_format),\n",
        "                            \"periodEnd\": end_time.strftime(time_format)}\n",
        "\n",
        "\n",
        "\n",
        "\n",
        "query_url = f\"{base_url}?{urllib.parse.urlencode(query_parameters_forecast)}\"\n",
        "\n",
        "\n",
        "print(query_url)\n",
        "\n",
        "\n",
        "\n",
        "\n",
        "\n"
      ],
      "execution_count": 156,
      "outputs": [
        {
          "output_type": "stream",
          "text": [
            "202011160000\n",
            "202011230000\n",
            "https://transparency.entsoe.eu/api?securityToken=2ecc33df-ae91-4de1-a519-c55d4fcbf74c&documentType=A69&processType=A01&psrType=B16&in_Domain=10Y1001A1001A39I&periodStart=202011160000&periodEnd=202011230000\n"
          ],
          "name": "stdout"
        }
      ]
    },
    {
      "cell_type": "markdown",
      "metadata": {
        "id": "aaNShrYbzFeP"
      },
      "source": [
        "# Get Raw data from Query result"
      ]
    },
    {
      "cell_type": "code",
      "metadata": {
        "colab": {
          "base_uri": "https://localhost:8080/"
        },
        "id": "510Z10D-zCbG",
        "outputId": "2ab38fca-74a9-4b42-cca8-0345f35d0203"
      },
      "source": [
        "import requests\n",
        "response = requests.get(query_url)\n",
        "\n",
        "print(response) # 200 is good"
      ],
      "execution_count": 157,
      "outputs": [
        {
          "output_type": "stream",
          "text": [
            "<Response [200]>\n"
          ],
          "name": "stdout"
        }
      ]
    },
    {
      "cell_type": "markdown",
      "metadata": {
        "id": "TBoxdiMf3oiC"
      },
      "source": [
        "# Parse data from XML"
      ]
    },
    {
      "cell_type": "code",
      "metadata": {
        "colab": {
          "base_uri": "https://localhost:8080/"
        },
        "id": "2FaAWc2BjxPG",
        "outputId": "2222b64d-1329-4f8c-d203-d459a14c166d"
      },
      "source": [
        "!pip install aniso8601"
      ],
      "execution_count": 158,
      "outputs": [
        {
          "output_type": "stream",
          "text": [
            "Requirement already satisfied: aniso8601 in /usr/local/lib/python3.6/dist-packages (8.0.0)\n"
          ],
          "name": "stdout"
        }
      ]
    },
    {
      "cell_type": "code",
      "metadata": {
        "id": "OtqYOoDag21Y"
      },
      "source": [
        "from lxml import etree\n",
        "import aniso8601\n",
        "\n",
        "def get_text(parent_element, path, default=None):\n",
        "    \"\"\"Returns xml text of first element found in 'parent_element' at defined path.\n",
        "       Returns empty sting if no element was found.\"\"\"\n",
        "\n",
        "    element = parent_element.find(path)\n",
        "\n",
        "    if element is not None:\n",
        "        text = element.text\n",
        "    else:\n",
        "        text = default\n",
        "\n",
        "    return text\n",
        "\n",
        "parsed_data = etree.fromstring(response.content).getroottree()\n",
        "periods = parsed_data.findall(\".//{*}Period\")\n",
        "\n",
        "# Get Meta\n",
        "root = parsed_data.getroot()\n",
        "meta = {\"root\": root.tag.split(\"}\")[1],\n",
        "        \"root_namespace\": root.tag.split(\"}\")[0]}\n",
        "\n",
        "for child in root.getchildren():\n",
        "\n",
        "  if len(child.getchildren()) == 0:\n",
        "    meta[child.tag.split(\"}\")[1]] = child.text\n",
        "\n",
        "\n",
        "\n",
        "# Get Data\n",
        "result_list = []\n",
        "\n",
        "for period in periods:\n",
        "\n",
        "  # Meta\n",
        "\n",
        "  for child in period.getparent():\n",
        "\n",
        "    if len(child.getchildren()) == 0:\n",
        "      meta[child.tag.split(\"}\")[1]] = child.text\n",
        "\n",
        "  resolution = aniso8601.parse_duration(period.find('.//{*}resolution').text)\n",
        "  start_time = aniso8601.parse_datetime(period.find('.//{*}start').text)\n",
        "  end_time   = aniso8601.parse_datetime(period.find('.//{*}end').text)\n",
        "\n",
        "  points = period.findall(\"{*}Point\")\n",
        "\n",
        "  for point in points:\n",
        "    position = int(point.find('{*}position').text)\n",
        "\n",
        "    value = get_text(point, '{*}price.amount')\n",
        "\n",
        "    if value == None:\n",
        "      value = get_text(point, '{*}quantity')\n",
        "    \n",
        "    \n",
        "    start = start_time + resolution * (position - 1)\n",
        "    end  = start_time + resolution * position\n",
        "\n",
        "    result_list.append({\"utc_start\":start, \"utc_end\":end, \"data\":float(value)})\n",
        "\n",
        "\n"
      ],
      "execution_count": 159,
      "outputs": []
    },
    {
      "cell_type": "code",
      "metadata": {
        "colab": {
          "base_uri": "https://localhost:8080/"
        },
        "id": "TT2iollkO4Gf",
        "outputId": "f08630d9-7da4-4de4-9fa5-ccbb8a033489"
      },
      "source": [
        "meta"
      ],
      "execution_count": 160,
      "outputs": [
        {
          "output_type": "execute_result",
          "data": {
            "text/plain": [
              "{'businessType': 'A94',\n",
              " 'createdDateTime': '2020-11-23T23:31:51Z',\n",
              " 'curveType': 'A01',\n",
              " 'inBiddingZone_Domain.mRID': '10Y1001A1001A39I',\n",
              " 'mRID': '8',\n",
              " 'objectAggregation': 'A08',\n",
              " 'process.processType': 'A01',\n",
              " 'quantity_Measure_Unit.name': 'MAW',\n",
              " 'receiver_MarketParticipant.mRID': '10X1001A1001A450',\n",
              " 'receiver_MarketParticipant.marketRole.type': 'A33',\n",
              " 'revisionNumber': '1',\n",
              " 'root': 'GL_MarketDocument',\n",
              " 'root_namespace': '{urn:iec62325.351:tc57wg16:451-6:generationloaddocument:3:0',\n",
              " 'sender_MarketParticipant.mRID': '10X1001A1001A450',\n",
              " 'sender_MarketParticipant.marketRole.type': 'A32',\n",
              " 'type': 'A69'}"
            ]
          },
          "metadata": {
            "tags": []
          },
          "execution_count": 160
        }
      ]
    },
    {
      "cell_type": "code",
      "metadata": {
        "id": "KRI_Ofpyi_YW"
      },
      "source": [
        "import pandas\n",
        "\n",
        "dataframe = pandas.DataFrame(result_list).set_index(\"utc_start\")\n",
        "#dataframe.index = pandas.to_datetime(dataframe.index)\n",
        "\n",
        "#dataframe"
      ],
      "execution_count": 161,
      "outputs": []
    },
    {
      "cell_type": "markdown",
      "metadata": {
        "id": "6fgI-k674M0q"
      },
      "source": [
        "# Visualize data"
      ]
    },
    {
      "cell_type": "code",
      "metadata": {
        "colab": {
          "base_uri": "https://localhost:8080/",
          "height": 868
        },
        "id": "908G5FL9hnBN",
        "outputId": "faa5a214-1b9a-45b2-94b6-330c76dd65ac"
      },
      "source": [
        "for item in meta.items():\n",
        "  print(item)\n",
        "dataframe[\"data\"].plot(figsize=(20, 10), ylabel=\"EUR/MWh\", xlabel=\"Time\")"
      ],
      "execution_count": 162,
      "outputs": [
        {
          "output_type": "stream",
          "text": [
            "('root', 'GL_MarketDocument')\n",
            "('root_namespace', '{urn:iec62325.351:tc57wg16:451-6:generationloaddocument:3:0')\n",
            "('mRID', '8')\n",
            "('revisionNumber', '1')\n",
            "('type', 'A69')\n",
            "('process.processType', 'A01')\n",
            "('sender_MarketParticipant.mRID', '10X1001A1001A450')\n",
            "('sender_MarketParticipant.marketRole.type', 'A32')\n",
            "('receiver_MarketParticipant.mRID', '10X1001A1001A450')\n",
            "('receiver_MarketParticipant.marketRole.type', 'A33')\n",
            "('createdDateTime', '2020-11-23T23:31:51Z')\n",
            "('businessType', 'A94')\n",
            "('objectAggregation', 'A08')\n",
            "('inBiddingZone_Domain.mRID', '10Y1001A1001A39I')\n",
            "('quantity_Measure_Unit.name', 'MAW')\n",
            "('curveType', 'A01')\n"
          ],
          "name": "stdout"
        },
        {
          "output_type": "execute_result",
          "data": {
            "text/plain": [
              "<matplotlib.axes._subplots.AxesSubplot at 0x7f58d0c68390>"
            ]
          },
          "metadata": {
            "tags": []
          },
          "execution_count": 162
        },
        {
          "output_type": "display_data",
          "data": {
            "image/png": "[encoded data removed]",
            "text/plain": [
              "<Figure size 1440x720 with 1 Axes>"
            ]
          },
          "metadata": {
            "tags": [],
            "needs_background": "light"
          }
        }
      ]
    },
    {
      "cell_type": "code",
      "metadata": {
        "id": "96oQDwa_IbiM"
      },
      "source": [
        "#dataframe.to_csv(\"results.csv\")"
      ],
      "execution_count": 163,
      "outputs": []
    }
  ]
}